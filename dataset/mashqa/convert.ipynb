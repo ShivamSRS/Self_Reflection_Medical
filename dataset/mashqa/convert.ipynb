{
 "cells": [
  {
   "cell_type": "code",
   "execution_count": 3,
   "metadata": {},
   "outputs": [],
   "source": [
    "import jsonlines\n",
    "import json"
   ]
  },
  {
   "cell_type": "code",
   "execution_count": 75,
   "metadata": {},
   "outputs": [],
   "source": [
    "f = open('val_webmd_squad_v2_consec.json')\n",
    "data = json.load(f)\n",
    "\n",
    "with jsonlines.open('val_data.jsonl', mode='w') as writer:\n",
    "    for item in data['data']:\n",
    "        context = item['paragraphs'][0]['context']\n",
    "        # print(item.keys())\n",
    "        # print(item['paragraphs'][0].keys())\n",
    "        # print(item['paragraphs'][0]['qas'])\n",
    "        for qa in item['paragraphs'][0]['qas']:\n",
    "            answers = [item['text'] for item in qa['answers']]\n",
    "            writer.write({'id': qa['id'],\n",
    "                        'url': qa['url'],\n",
    "                        'subject': '',\n",
    "                        'topic': '',\n",
    "                        'context': context,\n",
    "                        'question': qa['question'],\n",
    "                        'answer': answers,})\n",
    "        # break"
   ]
  },
  {
   "cell_type": "code",
   "execution_count": 76,
   "metadata": {},
   "outputs": [],
   "source": [
    "f = open('test_webmd_squad_v2_consec.json')\n",
    "data = json.load(f)\n",
    "\n",
    "with jsonlines.open('test_data.jsonl', mode='w') as writer:\n",
    "    for item in data['data']:\n",
    "        context = item['paragraphs'][0]['context']\n",
    "        # print(item.keys())\n",
    "        # print(item['paragraphs'][0].keys())\n",
    "        # print(item['paragraphs'][0]['qas'])\n",
    "        for qa in item['paragraphs'][0]['qas']:\n",
    "            answers = [item['text'] for item in qa['answers']]\n",
    "            writer.write({'id': qa['id'],\n",
    "                        'url': qa['url'],\n",
    "                        'subject': '',\n",
    "                        'topic': '',\n",
    "                        'context': context,\n",
    "                        'question': qa['question'],\n",
    "                        'answer': answers,})\n",
    "        # break"
   ]
  }
 ],
 "metadata": {
  "kernelspec": {
   "display_name": "Python [conda env:long]",
   "language": "python",
   "name": "conda-env-long-py"
  },
  "language_info": {
   "codemirror_mode": {
    "name": "ipython",
    "version": 3
   },
   "file_extension": ".py",
   "mimetype": "text/x-python",
   "name": "python",
   "nbconvert_exporter": "python",
   "pygments_lexer": "ipython3",
   "version": "3.8.16"
  }
 },
 "nbformat": 4,
 "nbformat_minor": 4
}
