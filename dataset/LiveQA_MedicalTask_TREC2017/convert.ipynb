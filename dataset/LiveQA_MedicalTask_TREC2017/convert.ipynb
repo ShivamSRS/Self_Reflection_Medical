{
 "cells": [
  {
   "cell_type": "code",
   "execution_count": 9,
   "metadata": {},
   "outputs": [],
   "source": [
    "import xml.dom.minidom\n",
    "import json\n",
    "import re"
   ]
  },
  {
   "cell_type": "code",
   "execution_count": 11,
   "metadata": {},
   "outputs": [],
   "source": [
    "dom = xml.dom.minidom.parse('TestDataset/TREC-2017-LiveQA-Medical-Test-Questions-w-summaries.xml')\n",
    "root = dom.documentElement\n",
    "\n",
    "\n",
    "with open('test_data.jsonl', 'w') as outfile:\n",
    "    qid = 0\n",
    "    for quetion in root.getElementsByTagName('NLM-QUESTION'):\n",
    "        qid += 1\n",
    "        subject = None\n",
    "        if quetion.getElementsByTagName(\"SUBJECT\")[0].childNodes:\n",
    "            subject = quetion.getElementsByTagName(\"SUBJECT\")[0].childNodes[0].data\n",
    "            subject = re.sub('\\t', ' ', subject.strip())\n",
    "            \n",
    "        all_answers = []\n",
    "        for answer in quetion.getElementsByTagName(\"ANSWER\"):\n",
    "            answer = answer.childNodes[0].data\n",
    "            answer = re.sub('\\n\\t+', ' ', answer.strip())\n",
    "            all_answers.append(answer)\n",
    "            \n",
    "        all_urls = []\n",
    "        for url in quetion.getElementsByTagName(\"AnswerURL\"):\n",
    "            url = url.childNodes[0].data\n",
    "            all_urls.append(url)\n",
    "            \n",
    "        assert len(all_urls) == len(all_answers)\n",
    "        \n",
    "        entry = {'id': f\"TQ{qid}\",\n",
    "                'subject': subject,\n",
    "                 'url': all_urls, \n",
    "                 'context': None,\n",
    "                 'question': quetion.getElementsByTagName(\"NLM-Summary\")[0].childNodes[0].data, \n",
    "                 'answer': all_answers}\n",
    "        json.dump(entry, outfile)\n",
    "        outfile.write('\\n')"
   ]
  },
  {
   "cell_type": "code",
   "execution_count": null,
   "metadata": {},
   "outputs": [],
   "source": [
    "dom = xml.dom.minidom.parse('TrainingDatasets/TREC-2017-LiveQA-Medical-Test-Questions-w-summaries.xml')\n",
    "root = dom.documentElement\n",
    "\n",
    "\n",
    "with open('val_data.jsonl', 'w') as outfile:\n",
    "    qid = 0\n",
    "    for quetion in root.getElementsByTagName('NLM-QUESTION'):\n",
    "        qid += 1\n",
    "        subject = None\n",
    "        if quetion.getElementsByTagName(\"SUBJECT\")[0].childNodes:\n",
    "            subject = quetion.getElementsByTagName(\"SUBJECT\")[0].childNodes[0].data\n",
    "            subject = re.sub('\\t', ' ', subject.strip())\n",
    "            \n",
    "        all_answers = []\n",
    "        for answer in quetion.getElementsByTagName(\"ANSWER\"):\n",
    "            answer = answer.childNodes[0].data\n",
    "            answer = re.sub('\\n\\t+', ' ', answer.strip())\n",
    "            all_answers.append(answer)\n",
    "            \n",
    "        all_urls = []\n",
    "        for url in quetion.getElementsByTagName(\"AnswerURL\"):\n",
    "            url = url.childNodes[0].data\n",
    "            all_urls.append(url)\n",
    "            \n",
    "        assert len(all_urls) == len(all_answers)\n",
    "        \n",
    "        entry = {'id': f\"TQ{qid}\",\n",
    "                'subject': subject,\n",
    "                 'url': all_urls, \n",
    "                 'context': None,\n",
    "                 'question': quetion.getElementsByTagName(\"NLM-Summary\")[0].childNodes[0].data, \n",
    "                 'answer': all_answers}\n",
    "        json.dump(entry, outfile)\n",
    "        outfile.write('\\n')"
   ]
  }
 ],
 "metadata": {
  "kernelspec": {
   "display_name": "Python 3",
   "language": "python",
   "name": "python3"
  },
  "language_info": {
   "codemirror_mode": {
    "name": "ipython",
    "version": 3
   },
   "file_extension": ".py",
   "mimetype": "text/x-python",
   "name": "python",
   "nbconvert_exporter": "python",
   "pygments_lexer": "ipython3",
   "version": "3.6.13"
  }
 },
 "nbformat": 4,
 "nbformat_minor": 4
}
