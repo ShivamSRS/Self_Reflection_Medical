{
 "cells": [
  {
   "cell_type": "code",
   "execution_count": null,
   "id": "1aadf300-b654-4a74-8828-01508b427760",
   "metadata": {},
   "outputs": [],
   "source": [
    "import jsonlines\n",
    "import json"
   ]
  },
  {
   "cell_type": "code",
   "execution_count": null,
   "id": "cdfb5143-55a7-4249-a2b2-fac418fb028f",
   "metadata": {},
   "outputs": [],
   "source": [
    "\n",
    "with open('data/test_ground_truth.json') as f:\n",
    "    test_data = json.load(f)\n",
    "    test_ids = test_data.keys()\n",
    "    \n",
    "    \n",
    "with open('data/ori_pqal.json') as f:\n",
    "    data = json.load(f)"
   ]
  },
  {
   "cell_type": "code",
   "execution_count": null,
   "id": "c1704c15-3909-447b-a6db-19c3db57a70f",
   "metadata": {},
   "outputs": [],
   "source": [
    "\n",
    "with jsonlines.open('val_data.jsonl', mode='w') as writer:\n",
    "    for id in data.keys():\n",
    "        if id not in test_ids:\n",
    "            writer.write({'id': id,\n",
    "                          'url': '',\n",
    "                          'subject': '',\n",
    "                          'topic': '',\n",
    "                          'context': \" \".join(data[id]['CONTEXTS']),\n",
    "                          'question': data[id]['QUESTION'],\n",
    "                          'answer': [data[id]['final_decision'].capitalize()+\". \"+data[id]['LONG_ANSWER']],})"
   ]
  },
  {
   "cell_type": "code",
   "execution_count": null,
   "id": "3b4f12ac-064b-456b-9a5e-b1ff3d77589b",
   "metadata": {},
   "outputs": [],
   "source": [
    "\n",
    "with jsonlines.open('test_data.jsonl', mode='w') as writer:\n",
    "    for id in test_ids:\n",
    "        writer.write({'id': id,\n",
    "                      'url': '',\n",
    "                      'subject': '',\n",
    "                      'topic': '',\n",
    "                      'context': \" \".join(data[id]['CONTEXTS']),\n",
    "                      'question': data[id]['QUESTION'],\n",
    "                      'answer': [data[id]['final_decision'].capitalize()+\". \"+data[id]['LONG_ANSWER']],})"
   ]
  }
 ],
 "metadata": {
  "kernelspec": {
   "display_name": "Python 3",
   "language": "python",
   "name": "python3"
  },
  "language_info": {
   "codemirror_mode": {
    "name": "ipython",
    "version": 3
   },
   "file_extension": ".py",
   "mimetype": "text/x-python",
   "name": "python",
   "nbconvert_exporter": "python",
   "pygments_lexer": "ipython3",
   "version": "3.6.13"
  }
 },
 "nbformat": 4,
 "nbformat_minor": 5
}
