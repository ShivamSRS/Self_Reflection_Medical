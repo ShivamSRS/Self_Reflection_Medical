{
 "cells": [
  {
   "cell_type": "code",
   "execution_count": null,
   "id": "a91a6baf-cd39-40fe-98b7-e5eb551598e4",
   "metadata": {},
   "outputs": [],
   "source": [
    "import os\n",
    "import xmltodict\n",
    "import jsonlines\n",
    "import pandas as pd\n",
    "import jsonlines"
   ]
  },
  {
   "cell_type": "code",
   "execution_count": null,
   "id": "a06ad5ce-1215-4a9a-8b1a-888b35f874d6",
   "metadata": {},
   "outputs": [],
   "source": [
    "folders = os.listdir('.')\n",
    "folders = ['./'+item for item in folders if item != 'readme.txt']\n",
    "data = []\n",
    "for folder in folders:\n",
    "    files = os.listdir(folder)\n",
    "    files = [folder+'/'+item for item in files]\n",
    "    for file in files:\n",
    "        with open(file) as xml_file:\n",
    "            data_dict = xmltodict.parse(xml_file.read())\n",
    "            if 'Document' in data_dict.keys():\n",
    "                if data_dict['Document']['QAPairs']:\n",
    "                    if 'QAPair' in data_dict['Document']['QAPairs'].keys():\n",
    "                        qas = data_dict['Document']['QAPairs']['QAPair']\n",
    "                        if not isinstance(qas, list):\n",
    "                            qas = [qas]\n",
    "                        for qa in qas:\n",
    "                            # print(qa)\n",
    "                            # qa = qa['QAPair']\n",
    "                            # print(qa['Question']['@qid'])\n",
    "                            \n",
    "                                data.append({'id': qa['Question']['@qid'],\n",
    "                                        'url': data_dict['Document']['@url'],\n",
    "                                        'subject': '',\n",
    "                                        'topic': data_dict['Document']['Focus'],\n",
    "                                        'context': '',\n",
    "                                        'question': qa['Question']['#text'],\n",
    "                                        'answer': qa['Answer']})\n",
    "\n",
    "with jsonlines.open('train_data.jsonl', mode='w') as writer:\n",
    "    for item in data:\n",
    "        writer.write(item)\n",
    "print(len(data))"
   ]
  },
  {
   "cell_type": "code",
   "execution_count": null,
   "id": "4886a766-1465-4d09-a0ed-6c0206dba31b",
   "metadata": {},
   "outputs": [],
   "source": [
    "data = pd.read_csv('./All-2479-Answers-retrieved-from-MedQuAD.csv')\n",
    "with jsonlines.open('test_data.jsonl', mode='w') as writer:\n",
    "    for item in data.iterrows():\n",
    "        id = item[0]\n",
    "        for line in item[1]['Answer'].split('\\n'):\n",
    "            if 'Question:' in line:\n",
    "                question = line.split('Question:')[-1].strip()\n",
    "            if 'URL:' in line:\n",
    "                url = line.split('URL:')[-1].strip()\n",
    "            if 'Answer:' in line:\n",
    "                answer = line.split('Answer:')[-1].strip()\n",
    "        writer.write({'id': id,\n",
    "                      'url': url,\n",
    "                      'subject': '',\n",
    "                      'topic': '',\n",
    "                      'context': '',\n",
    "                      'question': question,\n",
    "                      'answer': [answer]})"
   ]
  }
 ],
 "metadata": {
  "kernelspec": {
   "display_name": "Python 3",
   "language": "python",
   "name": "python3"
  },
  "language_info": {
   "codemirror_mode": {
    "name": "ipython",
    "version": 3
   },
   "file_extension": ".py",
   "mimetype": "text/x-python",
   "name": "python",
   "nbconvert_exporter": "python",
   "pygments_lexer": "ipython3",
   "version": "3.6.13"
  }
 },
 "nbformat": 4,
 "nbformat_minor": 5
}
